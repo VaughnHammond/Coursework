{
 "cells": [
  {
   "cell_type": "markdown",
   "id": "d4b6aa99",
   "metadata": {},
   "source": [
    "# Data Science Tools and Ecosystem"
   ]
  },
  {
   "cell_type": "markdown",
   "id": "9f3c7f82",
   "metadata": {},
   "source": [
    "In this notebook, Data Science Tools and Ecosystem are summarized."
   ]
  },
  {
   "cell_type": "markdown",
   "id": "0182125b",
   "metadata": {},
   "source": [
    "Some of the popular languages that Data Scientists use are:\n",
    "1. Python\n",
    "2. R\n",
    "3. Structured Query Language (SQL)"
   ]
  },
  {
   "cell_type": "markdown",
   "id": "d83120b8",
   "metadata": {},
   "source": [
    "Some of the common libraries used by Data Scientists are:\n",
    "1. PyTorch\n",
    "2. TensorFlow\n",
    "3. Pandas"
   ]
  },
  {
   "cell_type": "markdown",
   "id": "e5ad5f6a",
   "metadata": {},
   "source": [
    "| Data Science Tools |\n",
    "| ------------------------------- |\n",
    "| RStudio |\n",
    "| Jupyter Notebook |\n",
    "| Visual Studio Code |"
   ]
  },
  {
   "cell_type": "markdown",
   "id": "92b72444",
   "metadata": {},
   "source": [
    "### Below are a few examples of evaluating arithmetic expressions in Python:\n",
    "- 7*3-5\n",
    "- (14/2)+7\n",
    "- 8*2+4-3"
   ]
  },
  {
   "cell_type": "code",
   "execution_count": 9,
   "id": "e6b7e7a3",
   "metadata": {},
   "outputs": [
    {
     "data": {
      "text/plain": [
       "17"
      ]
     },
     "execution_count": 9,
     "metadata": {},
     "output_type": "execute_result"
    }
   ],
   "source": [
    "#This a simple arithmetic expression to mutiply then add integers\n",
    "(3*4)+5"
   ]
  },
  {
   "cell_type": "code",
   "execution_count": 8,
   "id": "eb7a2ed3",
   "metadata": {},
   "outputs": [
    {
     "data": {
      "text/plain": [
       "3.3333333333333335"
      ]
     },
     "execution_count": 8,
     "metadata": {},
     "output_type": "execute_result"
    }
   ],
   "source": [
    "#This will convert 200 minutes to hours by dividing by 60.\n",
    "200/60"
   ]
  },
  {
   "cell_type": "markdown",
   "id": "06b7db06",
   "metadata": {},
   "source": [
    "**Objectives**\n",
    "- List popular languages for Data Science\n",
    "- List common libraries used in Data Science\n",
    "- Create source code to post to Github\n",
    "- Begin to use tools like Jupyter Notebook"
   ]
  },
  {
   "cell_type": "markdown",
   "id": "5b2071d9",
   "metadata": {},
   "source": [
    "## Author\n",
    "###### Vaughn Hammond"
   ]
  }
 ],
 "metadata": {
  "kernelspec": {
   "display_name": "Python 3 (ipykernel)",
   "language": "python",
   "name": "python3"
  },
  "language_info": {
   "codemirror_mode": {
    "name": "ipython",
    "version": 3
   },
   "file_extension": ".py",
   "mimetype": "text/x-python",
   "name": "python",
   "nbconvert_exporter": "python",
   "pygments_lexer": "ipython3",
   "version": "3.10.9"
  }
 },
 "nbformat": 4,
 "nbformat_minor": 5
}
